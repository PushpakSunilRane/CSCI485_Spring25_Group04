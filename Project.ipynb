{
 "cells": [
  {
   "cell_type": "code",
   "execution_count": 1,
   "id": "f1753bb4-699f-433f-add9-c03b0ff203ae",
   "metadata": {},
   "outputs": [
    {
     "name": "stdout",
     "output_type": "stream",
     "text": [
      "{'error': 'Invalid API key. Your API key should be here: https://serpapi.com/manage-api-key'}\n"
     ]
    }
   ],
   "source": [
    "import requests\n",
    "\n",
    "API_KEY = \"your_serpapi_key\"\n",
    "params = {\n",
    "    \"engine\": \"google_jobs\",\n",
    "    \"q\": \"Data Scientist\",\n",
    "    \"location\": \"United States\",\n",
    "    \"api_key\": API_KEY\n",
    "}\n",
    "\n",
    "response = requests.get(\"https://serpapi.com/search\", params=params)\n",
    "jobs = response.json()\n",
    "print(jobs)"
   ]
  },
  {
   "cell_type": "code",
   "execution_count": null,
   "id": "5517220c-e7a2-4fe1-9112-143e272b99cb",
   "metadata": {},
   "outputs": [],
   "source": []
  }
 ],
 "metadata": {
  "kernelspec": {
   "display_name": "Python 3 (ipykernel)",
   "language": "python",
   "name": "python3"
  },
  "language_info": {
   "codemirror_mode": {
    "name": "ipython",
    "version": 3
   },
   "file_extension": ".py",
   "mimetype": "text/x-python",
   "name": "python",
   "nbconvert_exporter": "python",
   "pygments_lexer": "ipython3",
   "version": "3.12.8"
  }
 },
 "nbformat": 4,
 "nbformat_minor": 5
}
